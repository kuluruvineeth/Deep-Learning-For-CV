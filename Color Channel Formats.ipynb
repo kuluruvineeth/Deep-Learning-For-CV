{
 "cells": [
  {
   "cell_type": "markdown",
   "metadata": {},
   "source": [
    "# Different Color Channel Ordering Formats\n",
    "\n",
    "1. **Channels Last** : Image data is represented in a three-dimensional array where the last channel represents the color channels. e.g. [rows][cols][channels]\n",
    "\n",
    "2. **Channels First** : Image data is represented in a three-dimensional array where the first channel represents the color channels. e.g [channels][rows][cols]."
   ]
  },
  {
   "cell_type": "markdown",
   "metadata": {},
   "source": [
    "## 1. Adding a Channel to Grayscale Image"
   ]
  },
  {
   "cell_type": "code",
   "execution_count": 2,
   "metadata": {},
   "outputs": [
    {
     "name": "stdout",
     "output_type": "stream",
     "text": [
      "(2250, 2742)\n",
      "(1, 2250, 2742)\n",
      "(2250, 2742, 1)\n"
     ]
    }
   ],
   "source": [
    "# example of expanding dimensions\n",
    "from numpy import expand_dims\n",
    "from numpy import asarray\n",
    "from PIL import Image\n",
    "\n",
    "# load the image\n",
    "img = Image.open('full_grain_1_grayscale.jpg')\n",
    "# convert to numpy array\n",
    "data = asarray(img)\n",
    "print(data.shape)\n",
    "# add channels first\n",
    "data_first = expand_dims(data,axis=0)\n",
    "print(data_first.shape)\n",
    "# add channels last\n",
    "data_last = expand_dims(data,axis=2)\n",
    "print(data_last.shape)"
   ]
  },
  {
   "cell_type": "markdown",
   "metadata": {},
   "source": [
    "## 2. Changing Image Channel Ordering"
   ]
  },
  {
   "cell_type": "code",
   "execution_count": 4,
   "metadata": {},
   "outputs": [
    {
     "name": "stdout",
     "output_type": "stream",
     "text": [
      "(2250, 2742, 3)\n",
      "(3, 2250, 2742)\n",
      "(2250, 2742, 3)\n"
     ]
    }
   ],
   "source": [
    "# change image from channels last to channels first format\n",
    "from numpy import moveaxis\n",
    "from numpy import asarray\n",
    "from PIL import Image\n",
    "\n",
    "# load the color image\n",
    "img = Image.open('full_grain_1.jpg')\n",
    "# convert to numpy array\n",
    "data = asarray(img)\n",
    "print(data.shape)\n",
    "# change channels last to channels first format\n",
    "data = moveaxis(data,2,0)\n",
    "print(data.shape)\n",
    "# change channels first to channels last format\n",
    "data = moveaxis(data,0,2)\n",
    "print(data.shape)\n"
   ]
  },
  {
   "cell_type": "code",
   "execution_count": 5,
   "metadata": {},
   "outputs": [
    {
     "name": "stdout",
     "output_type": "stream",
     "text": [
      "channels_last\n"
     ]
    }
   ],
   "source": [
    "# show preferred channel order\n",
    "from keras import backendackend\n",
    "print(backend.image_data_format())"
   ]
  },
  {
   "cell_type": "markdown",
   "metadata": {},
   "source": [
    "## 3. Force Channel Ordering"
   ]
  },
  {
   "cell_type": "code",
   "execution_count": 13,
   "metadata": {},
   "outputs": [
    {
     "name": "stdout",
     "output_type": "stream",
     "text": [
      "channels_first\n",
      "channels_last\n"
     ]
    }
   ],
   "source": [
    "# force a channel ordering\n",
    "from keras import backend\n",
    "# force channels-first ordering\n",
    "backend.set_image_data_format('channels_first')\n",
    "print(backend.image_data_format())\n",
    "# force channels-last ordering\n",
    "backend.set_image_data_format('channels_last')\n",
    "print(backend.image_data_format())"
   ]
  },
  {
   "cell_type": "code",
   "execution_count": null,
   "metadata": {},
   "outputs": [],
   "source": []
  }
 ],
 "metadata": {
  "kernelspec": {
   "display_name": "Python 3",
   "language": "python",
   "name": "python3"
  },
  "language_info": {
   "codemirror_mode": {
    "name": "ipython",
    "version": 3
   },
   "file_extension": ".py",
   "mimetype": "text/x-python",
   "name": "python",
   "nbconvert_exporter": "python",
   "pygments_lexer": "ipython3",
   "version": "3.8.5"
  }
 },
 "nbformat": 4,
 "nbformat_minor": 4
}
