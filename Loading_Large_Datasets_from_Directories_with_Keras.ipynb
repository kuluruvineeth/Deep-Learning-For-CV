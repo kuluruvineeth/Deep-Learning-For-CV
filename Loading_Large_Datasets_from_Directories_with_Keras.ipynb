{
 "cells": [
  {
   "cell_type": "markdown",
   "metadata": {},
   "source": [
    "# Loading Large Datasets From Directories with Keras"
   ]
  },
  {
   "cell_type": "markdown",
   "metadata": {},
   "source": [
    "## 1. Progressively Loading Images"
   ]
  },
  {
   "cell_type": "code",
   "execution_count": 5,
   "metadata": {},
   "outputs": [
    {
     "name": "stdout",
     "output_type": "stream",
     "text": [
      "Found 4 images belonging to 4 classes.\n",
      "Found 4 images belonging to 4 classes.\n",
      "Found 4 images belonging to 4 classes.\n",
      "Batch shape=(4, 256, 256, 3),min=0.000,max=255.000\n"
     ]
    }
   ],
   "source": [
    "# example of progressively loading images from file\n",
    "from keras.preprocessing.image import ImageDataGenerator\n",
    "# create generator\n",
    "datagen = ImageDataGenerator()\n",
    "# prepare an iterators for each dataset\n",
    "train_it = datagen.flow_from_directory('data/train/',class_mode='categorical')\n",
    "val_it = datagen.flow_from_directory('data/validation/',class_mode='categorical')\n",
    "test_it = datagen.flow_from_directory('data/test/',class_mode='categorical')\n",
    "# confirm the iterator works\n",
    "batchX,batchy = train_it.next()\n",
    "print('Batch shape=%s,min=%.3f,max=%.3f' %(batchX.shape,batchX.min(),batchX.max()))"
   ]
  },
  {
   "cell_type": "code",
   "execution_count": null,
   "metadata": {},
   "outputs": [],
   "source": []
  }
 ],
 "metadata": {
  "kernelspec": {
   "display_name": "Python 3",
   "language": "python",
   "name": "python3"
  },
  "language_info": {
   "codemirror_mode": {
    "name": "ipython",
    "version": 3
   },
   "file_extension": ".py",
   "mimetype": "text/x-python",
   "name": "python",
   "nbconvert_exporter": "python",
   "pygments_lexer": "ipython3",
   "version": "3.8.5"
  }
 },
 "nbformat": 4,
 "nbformat_minor": 4
}
