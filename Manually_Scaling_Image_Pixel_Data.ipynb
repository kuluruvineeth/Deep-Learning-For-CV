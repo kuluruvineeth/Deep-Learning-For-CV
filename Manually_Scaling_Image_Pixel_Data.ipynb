{
 "cells": [
  {
   "cell_type": "markdown",
   "metadata": {},
   "source": [
    "# Manually Scaling Image Pixel Data"
   ]
  },
  {
   "cell_type": "markdown",
   "metadata": {},
   "source": [
    "## 1. Loading Image"
   ]
  },
  {
   "cell_type": "code",
   "execution_count": 1,
   "metadata": {},
   "outputs": [
    {
     "name": "stdout",
     "output_type": "stream",
     "text": [
      "JPEG\n",
      "RGB\n",
      "(2742, 2250)\n"
     ]
    }
   ],
   "source": [
    "# load and show an image with pillow\n",
    "from PIL import Image\n",
    "# load the image\n",
    "image = Image.open('full_grain_1.jpg')\n",
    "# summarize some details about the image\n",
    "print(image.format)\n",
    "print(image.mode)\n",
    "print(image.size)\n",
    "# show the image\n",
    "image.show()"
   ]
  },
  {
   "cell_type": "markdown",
   "metadata": {},
   "source": [
    "## 2. Normalize Pixel Values\n",
    "* It is good practice to normalize the pixel values so that each pixel value has a value between 0 and 1."
   ]
  },
  {
   "cell_type": "code",
   "execution_count": 2,
   "metadata": {},
   "outputs": [
    {
     "name": "stdout",
     "output_type": "stream",
     "text": [
      "Data Types: uint8\n",
      "Min: 10.000, Max: 255.000\n",
      "Min: 0.039, Max: 1.000\n"
     ]
    }
   ],
   "source": [
    "# example of pixel normalization\n",
    "from numpy import asarray\n",
    "from PIL import Image\n",
    "# load image\n",
    "image = Image.open('full_grain_1.jpg')\n",
    "pixels = asarray(image)\n",
    "# confirm pixel range is 0-255\n",
    "print('Data Types: %s' %pixels.dtype)\n",
    "print('Min: %.3f, Max: %.3f' %(pixels.min(),pixels.max()))\n",
    "# convert from integers to floats\n",
    "pixels = pixels.astype('float32')\n",
    "# normalize to the range 0-1\n",
    "pixels/=255.0\n",
    "# confirm the normalization\n",
    "print('Min: %.3f, Max: %.3f' %(pixels.min(),pixels.max()))"
   ]
  },
  {
   "cell_type": "markdown",
   "metadata": {},
   "source": [
    "## 3. Centering Pixel Values"
   ]
  },
  {
   "cell_type": "markdown",
   "metadata": {},
   "source": [
    "### 3.1 Global Centering\n",
    "* Calculating and subtracting the mean pixel value across color channels"
   ]
  },
  {
   "cell_type": "code",
   "execution_count": 4,
   "metadata": {},
   "outputs": [
    {
     "name": "stdout",
     "output_type": "stream",
     "text": [
      "Mean: 126.873\n",
      "Min: 10.000, Max: 255.000\n",
      "Mean: -0.000\n",
      "Min: -116.873, Max: 128.127\n"
     ]
    }
   ],
   "source": [
    "# example of global centering (subtract mean)\n",
    "from numpy import asarray\n",
    "from PIL import Image\n",
    "# load image\n",
    "image = Image.open('full_grain_1.jpg')\n",
    "pixels = asarray(image)\n",
    "# convert from integers to floats\n",
    "pixels = pixels.astype('float32')\n",
    "# calculate global mean\n",
    "mean = pixels.mean()\n",
    "print('Mean: %.3f' %mean)\n",
    "print('Min: %.3f, Max: %.3f' %(pixels.min(),pixels.max()))\n",
    "# global centering of pixels\n",
    "pixels = pixels - mean\n",
    "# confirm it had the desired effect\n",
    "mean = pixels.mean()\n",
    "print('Mean: %.3f' %mean)\n",
    "print('Min: %.3f, Max: %.3f' %(pixels.min(),pixels.max()))"
   ]
  },
  {
   "cell_type": "markdown",
   "metadata": {},
   "source": [
    "### 3.2 Local Centering\n",
    "* Calculating and subtracting the mean pixel value per color channel."
   ]
  },
  {
   "cell_type": "code",
   "execution_count": 5,
   "metadata": {},
   "outputs": [
    {
     "name": "stdout",
     "output_type": "stream",
     "text": [
      "Means: [ 87.85478758  94.09913542 198.66435708]\n",
      "Mins: [11. 10. 50.], Maxs: [255. 255. 255.]\n",
      "Means: [ 3.56752334e-07 -4.45384173e-07  3.47605516e-07]\n",
      "Mins: [ -76.85479  -84.09914 -148.66435], Maxs: [167.14522  160.90086   56.335644]\n"
     ]
    }
   ],
   "source": [
    "# example of per-channel centering(subtract mean)\n",
    "from numpy import asarray\n",
    "from PIL import Image\n",
    "# load image\n",
    "image = Image.open('full_grain_1.jpg')\n",
    "pixels = asarray(image)\n",
    "# convert from integers to floats\n",
    "pixels = pixels.astype('float32')\n",
    "# calculate per-channel means and standard deviations\n",
    "means = pixels.mean(axis=(0,1),dtype='float64')\n",
    "print('Means: %s' %means)\n",
    "print('Mins: %s, Maxs: %s' %(pixels.min(axis=(0,1)),pixels.max(axis=(0,1))))\n",
    "# per-channel centering of pixels\n",
    "pixels -= means\n",
    "# confirm it had the desired effect\n",
    "means = pixels.mean(axis=(0,1),dtype='float64')\n",
    "print('Means: %s' %means)\n",
    "print('Mins: %s, Maxs: %s' %(pixels.min(axis=(0,1)),pixels.max(axis=(0,1))))\n"
   ]
  },
  {
   "cell_type": "markdown",
   "metadata": {},
   "source": [
    "## 4. Standardizing Pixel Values\n",
    "* The result is a standard Gaussian of Pixel values with a mean of 0.0 and a standard deviation of 1.0"
   ]
  },
  {
   "cell_type": "markdown",
   "metadata": {},
   "source": [
    "### 4.1 Global Standardization\n",
    "* It calculates the mean and standard deviations across all color channels in the loaded image,then uses these values to standardize the pixel values."
   ]
  },
  {
   "cell_type": "code",
   "execution_count": 6,
   "metadata": {},
   "outputs": [
    {
     "name": "stdout",
     "output_type": "stream",
     "text": [
      "Mean: 126.873,Standard Deviation: 63.042\n",
      "Mean: -0.000,Standard Deviation: 1.000\n"
     ]
    }
   ],
   "source": [
    "# example of global pixel standardization\n",
    "from numpy import asarray\n",
    "from PIL import Image\n",
    "# load image\n",
    "image = Image.open('full_grain_1.jpg')\n",
    "pixels = asarray(image)\n",
    "# convert from integers to floats\n",
    "pixels = pixels.astype('float32')\n",
    "# calculate global mean and standard deviation\n",
    "mean,std = pixels.mean(),pixels.std()\n",
    "print('Mean: %.3f,Standard Deviation: %.3f' %(mean,std))\n",
    "# global standardization of pixels\n",
    "pixels = (pixels - mean) / std\n",
    "# confirm it had desired effect\n",
    "mean,std = pixels.mean(),pixels.std()\n",
    "print('Mean: %.3f,Standard Deviation: %.3f' %(mean,std))\n"
   ]
  },
  {
   "cell_type": "markdown",
   "metadata": {},
   "source": [
    "### 4.2 Positive Global Standardization\n",
    "* A popular wayb of achieving this is to clip the standardized pixel values to the range [-1,1] and then rescale the values from [-1,1] to [0,1]."
   ]
  },
  {
   "cell_type": "code",
   "execution_count": 8,
   "metadata": {},
   "outputs": [
    {
     "name": "stdout",
     "output_type": "stream",
     "text": [
      "Mean: 126.873, Standard Deviation: 63.042\n",
      "Mean: 0.461, Standard Deviation: 0.417\n",
      "Min: 0.000, Max: 1.000\n"
     ]
    }
   ],
   "source": [
    "# example of global pixel standardization shifted to positive domain\n",
    "from numpy import asarray\n",
    "from numpy import clip\n",
    "from PIL import Image\n",
    "# load image\n",
    "image = Image.open('full_grain_1.jpg')\n",
    "pixels = asarray(image)\n",
    "# convert from integers to floats\n",
    "pixels = pixels.astype('float32')\n",
    "# calculate global mean and standard deviation\n",
    "mean,std = pixels.mean(),pixels.std()\n",
    "print('Mean: %.3f, Standard Deviation: %.3f' %(mean,std))\n",
    "# global standardization of pixels\n",
    "pixels = (pixels - mean) / std\n",
    "# clip pixel values to [-1,1]\n",
    "pixels = clip(pixels,-1.0,1.0)\n",
    "# shift from [-1,1] to [0,1] with 0.5 mean\n",
    "pixels = (pixels + 1.0) / 2.0\n",
    "# confirm it had the desired effect\n",
    "mean,std = pixels.mean(),pixels.std()\n",
    "print('Mean: %.3f, Standard Deviation: %.3f' %(mean,std))\n",
    "print('Min: %.3f, Max: %.3f' %(pixels.min(),pixels.max()))"
   ]
  },
  {
   "cell_type": "markdown",
   "metadata": {},
   "source": [
    "### 4.3 Local Standardization\n",
    "* It calculates the mean and standard deviation of the loaded image per-channel,then uses these statistics to standardize the pixels separately in each channel. "
   ]
  },
  {
   "cell_type": "code",
   "execution_count": 9,
   "metadata": {},
   "outputs": [
    {
     "name": "stdout",
     "output_type": "stream",
     "text": [
      "Means: [ 87.85478758  94.09913542 198.66435708], Stds: [43.59767413 42.56466188 21.44376707]\n",
      "Means: [ 8.63717132e-12 -2.12247090e-13 -1.11486289e-13], Stds: [1. 1. 1.]\n"
     ]
    }
   ],
   "source": [
    "# example of per-channel pixel standardization\n",
    "from numpy import asarray\n",
    "from PIL import Image\n",
    "# load image\n",
    "image = Image.open('full_grain_1.jpg')\n",
    "pixels = asarray(image)\n",
    "# convert from integers to floats\n",
    "pixels = pixels.astype('float32')\n",
    "# calculate per-channel means and standard deviations\n",
    "means = pixels.mean(axis=(0,1),dtype='float64')\n",
    "stds = pixels.std(axis=(0,1),dtype='float64')\n",
    "print('Means: %s, Stds: %s' %(means,stds))\n",
    "# per-channel standardization of pixels\n",
    "pixels = (pixels - means) / stds\n",
    "# confirm it had the desired effect\n",
    "means = pixels.mean(axis=(0,1),dtype='float64')\n",
    "stds = pixels.std(axis=(0,1),dtype='float64')\n",
    "print('Means: %s, Stds: %s' %(means,stds))"
   ]
  },
  {
   "cell_type": "code",
   "execution_count": null,
   "metadata": {},
   "outputs": [],
   "source": []
  }
 ],
 "metadata": {
  "kernelspec": {
   "display_name": "Python 3",
   "language": "python",
   "name": "python3"
  },
  "language_info": {
   "codemirror_mode": {
    "name": "ipython",
    "version": 3
   },
   "file_extension": ".py",
   "mimetype": "text/x-python",
   "name": "python",
   "nbconvert_exporter": "python",
   "pygments_lexer": "ipython3",
   "version": "3.8.5"
  }
 },
 "nbformat": 4,
 "nbformat_minor": 4
}
