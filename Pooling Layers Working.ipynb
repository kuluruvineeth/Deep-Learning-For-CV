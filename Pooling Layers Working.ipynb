{
 "cells": [
  {
   "cell_type": "markdown",
   "metadata": {},
   "source": [
    "# Pooling Layers Working\n",
    "* Convolutional layers in a convolutional neural network systematically apply learned filters to input images in order to create feature maps that summarize the presence of those features in the input.\n",
    "* A limitation of the feature map output of convolutional layers is that they record the precise position of features in the input.\n",
    "* This means that small movements in the position of the feature in the input image will result in a different feature map. This can happen with re-cropping,rotation, shifting, and other minor changes to the input image.\n",
    "* A pooling layer is a new layer added after the convolutional layer."
   ]
  },
  {
   "cell_type": "code",
   "execution_count": 1,
   "metadata": {},
   "outputs": [
    {
     "name": "stdout",
     "output_type": "stream",
     "text": [
      "Model: \"sequential\"\n",
      "_________________________________________________________________\n",
      "Layer (type)                 Output Shape              Param #   \n",
      "=================================================================\n",
      "conv2d (Conv2D)              (None, 6, 6, 1)           10        \n",
      "=================================================================\n",
      "Total params: 10\n",
      "Trainable params: 10\n",
      "Non-trainable params: 0\n",
      "_________________________________________________________________\n",
      "[0.0, 0.0, 3.0, 3.0, 0.0, 0.0]\n",
      "[0.0, 0.0, 3.0, 3.0, 0.0, 0.0]\n",
      "[0.0, 0.0, 3.0, 3.0, 0.0, 0.0]\n",
      "[0.0, 0.0, 3.0, 3.0, 0.0, 0.0]\n",
      "[0.0, 0.0, 3.0, 3.0, 0.0, 0.0]\n",
      "[0.0, 0.0, 3.0, 3.0, 0.0, 0.0]\n"
     ]
    }
   ],
   "source": [
    "# example of vertical line detection with a convolutional layer\n",
    "from numpy import asarray\n",
    "from keras.models import Sequential\n",
    "from keras.layers import Conv2D\n",
    "# define input data\n",
    "data = [[0,0,0,1,1,0,0,0],\n",
    "       [0,0,0,1,1,0,0,0],\n",
    "       [0,0,0,1,1,0,0,0],\n",
    "       [0,0,0,1,1,0,0,0],\n",
    "       [0,0,0,1,1,0,0,0],\n",
    "       [0,0,0,1,1,0,0,0],\n",
    "       [0,0,0,1,1,0,0,0],\n",
    "       [0,0,0,1,1,0,0,0]]\n",
    "data = asarray(data)\n",
    "data = data.reshape(1,8,8,1)\n",
    "# create a model\n",
    "model = Sequential()\n",
    "model.add(Conv2D(1,(3,3),activation='relu',input_shape=(8,8,1)))\n",
    "# summarize model\n",
    "model.summary()\n",
    "# define a vertical line detector\n",
    "detector = [[[[0]],[[1]],[[0]]],\n",
    "           [[[0]],[[1]],[[0]]],\n",
    "           [[[0]],[[1]],[[0]]]]\n",
    "weights = [asarray(detector),asarray([0.0])]\n",
    "# store the weights in the model\n",
    "model.set_weights(weights)\n",
    "# apply filter to input data\n",
    "yhat = model.predict(data)\n",
    "# enumerate rows\n",
    "for r in range(yhat.shape[1]):\n",
    "    # print each column in the row\n",
    "    print([yhat[0,r,c,0] for c in range(yhat.shape[2])])"
   ]
  },
  {
   "cell_type": "markdown",
   "metadata": {},
   "source": [
    "## 1. Average Pooling Layer"
   ]
  },
  {
   "cell_type": "code",
   "execution_count": 2,
   "metadata": {},
   "outputs": [
    {
     "name": "stdout",
     "output_type": "stream",
     "text": [
      "Model: \"sequential_1\"\n",
      "_________________________________________________________________\n",
      "Layer (type)                 Output Shape              Param #   \n",
      "=================================================================\n",
      "conv2d_1 (Conv2D)            (None, 6, 6, 1)           10        \n",
      "_________________________________________________________________\n",
      "average_pooling2d (AveragePo (None, 3, 3, 1)           0         \n",
      "=================================================================\n",
      "Total params: 10\n",
      "Trainable params: 10\n",
      "Non-trainable params: 0\n",
      "_________________________________________________________________\n",
      "[0.0, 3.0, 0.0]\n",
      "[0.0, 3.0, 0.0]\n",
      "[0.0, 3.0, 0.0]\n"
     ]
    }
   ],
   "source": [
    "# example of average pooling\n",
    "from numpy import asarray\n",
    "from keras.models import Sequential\n",
    "from keras.layers import Conv2D\n",
    "from keras.layers import AveragePooling2D\n",
    "# define input data\n",
    "data = [[0,0,0,1,1,0,0,0],\n",
    "       [0,0,0,1,1,0,0,0],\n",
    "       [0,0,0,1,1,0,0,0],\n",
    "       [0,0,0,1,1,0,0,0],\n",
    "       [0,0,0,1,1,0,0,0],\n",
    "       [0,0,0,1,1,0,0,0],\n",
    "       [0,0,0,1,1,0,0,0],\n",
    "       [0,0,0,1,1,0,0,0]]\n",
    "data = asarray(data)\n",
    "data = data.reshape(1,8,8,1)\n",
    "# create a model\n",
    "model = Sequential()\n",
    "model.add(Conv2D(1,(3,3),activation='relu',input_shape=(8,8,1)))\n",
    "model.add(AveragePooling2D())\n",
    "# summarize model\n",
    "model.summary()\n",
    "# define a vertical line detector\n",
    "detector = [[[[0]],[[1]],[[0]]],\n",
    "           [[[0]],[[1]],[[0]]],\n",
    "           [[[0]],[[1]],[[0]]]]\n",
    "weights = [asarray(detector),asarray([0.0])]\n",
    "# store the weights in the model\n",
    "model.set_weights(weights)\n",
    "# apply filter to input data\n",
    "yhat = model.predict(data)\n",
    "# enumerate rows\n",
    "for r in range(yhat.shape[1]):\n",
    "    # print each column in the row\n",
    "    print([yhat[0,r,c,0] for c in range(yhat.shape[2])])"
   ]
  },
  {
   "cell_type": "markdown",
   "metadata": {},
   "source": [
    "## 2. Max Pooling Layer"
   ]
  },
  {
   "cell_type": "code",
   "execution_count": 1,
   "metadata": {},
   "outputs": [
    {
     "name": "stdout",
     "output_type": "stream",
     "text": [
      "Model: \"sequential\"\n",
      "_________________________________________________________________\n",
      "Layer (type)                 Output Shape              Param #   \n",
      "=================================================================\n",
      "conv2d (Conv2D)              (None, 6, 6, 1)           10        \n",
      "_________________________________________________________________\n",
      "max_pooling2d (MaxPooling2D) (None, 3, 3, 1)           0         \n",
      "=================================================================\n",
      "Total params: 10\n",
      "Trainable params: 10\n",
      "Non-trainable params: 0\n",
      "_________________________________________________________________\n",
      "[0.0, 3.0, 0.0]\n",
      "[0.0, 3.0, 0.0]\n",
      "[0.0, 3.0, 0.0]\n"
     ]
    }
   ],
   "source": [
    "# example of max pooling\n",
    "from numpy import asarray\n",
    "from keras.models import Sequential\n",
    "from keras.layers import Conv2D\n",
    "from keras.layers import MaxPooling2D\n",
    "# define input data\n",
    "data = [[0,0,0,1,1,0,0,0],\n",
    "       [0,0,0,1,1,0,0,0],\n",
    "       [0,0,0,1,1,0,0,0],\n",
    "       [0,0,0,1,1,0,0,0],\n",
    "       [0,0,0,1,1,0,0,0],\n",
    "       [0,0,0,1,1,0,0,0],\n",
    "       [0,0,0,1,1,0,0,0],\n",
    "       [0,0,0,1,1,0,0,0]]\n",
    "data = asarray(data)\n",
    "data = data.reshape(1,8,8,1)\n",
    "# create a model\n",
    "model = Sequential()\n",
    "model.add(Conv2D(1,(3,3),activation='relu',input_shape=(8,8,1)))\n",
    "model.add(MaxPooling2D())\n",
    "# summarize model\n",
    "model.summary()\n",
    "# define a vertical line detector\n",
    "detector = [[[[0]],[[1]],[[0]]],\n",
    "           [[[0]],[[1]],[[0]]],\n",
    "           [[[0]],[[1]],[[0]]]]\n",
    "weights = [asarray(detector),asarray([0.0])]\n",
    "# store the weights in the model\n",
    "model.set_weights(weights)\n",
    "# apply filter to input data\n",
    "yhat = model.predict(data)\n",
    "# enumerate rows\n",
    "for r in range(yhat.shape[1]):\n",
    "    # print each column in the row\n",
    "    print([yhat[0,r,c,0] for c in range(yhat.shape[2])])"
   ]
  },
  {
   "cell_type": "markdown",
   "metadata": {},
   "source": [
    "## 3. Global Pooling Layers\n",
    "* Global pooling downsamples the entire feature map to a single value.\n",
    "* It is used in models as an alternative to using a fully connected layer to transition from feature maps to an output prediction for the model."
   ]
  },
  {
   "cell_type": "code",
   "execution_count": 2,
   "metadata": {},
   "outputs": [
    {
     "name": "stdout",
     "output_type": "stream",
     "text": [
      "Model: \"sequential_1\"\n",
      "_________________________________________________________________\n",
      "Layer (type)                 Output Shape              Param #   \n",
      "=================================================================\n",
      "conv2d_1 (Conv2D)            (None, 6, 6, 1)           10        \n",
      "_________________________________________________________________\n",
      "global_max_pooling2d (Global (None, 1)                 0         \n",
      "=================================================================\n",
      "Total params: 10\n",
      "Trainable params: 10\n",
      "Non-trainable params: 0\n",
      "_________________________________________________________________\n",
      "[[3.]]\n"
     ]
    }
   ],
   "source": [
    "# example of using global max pooling\n",
    "from numpy import asarray\n",
    "from keras.models import Sequential\n",
    "from keras.layers import Conv2D\n",
    "from keras.layers import GlobalMaxPooling2D\n",
    "# define input data\n",
    "data = [[0,0,0,1,1,0,0,0],\n",
    "       [0,0,0,1,1,0,0,0],\n",
    "       [0,0,0,1,1,0,0,0],\n",
    "       [0,0,0,1,1,0,0,0],\n",
    "       [0,0,0,1,1,0,0,0],\n",
    "       [0,0,0,1,1,0,0,0],\n",
    "       [0,0,0,1,1,0,0,0],\n",
    "       [0,0,0,1,1,0,0,0]]\n",
    "data = asarray(data)\n",
    "data = data.reshape(1,8,8,1)\n",
    "# create a model\n",
    "model = Sequential()\n",
    "model.add(Conv2D(1,(3,3),activation='relu',input_shape=(8,8,1)))\n",
    "model.add(GlobalMaxPooling2D())\n",
    "# summarize model\n",
    "model.summary()\n",
    "# define a vertical line detector\n",
    "detector = [[[[0]],[[1]],[[0]]],\n",
    "           [[[0]],[[1]],[[0]]],\n",
    "           [[[0]],[[1]],[[0]]]]\n",
    "weights = [asarray(detector),asarray([0.0])]\n",
    "# store the weights in the model\n",
    "model.set_weights(weights)\n",
    "# apply filter to input data\n",
    "yhat = model.predict(data)\n",
    "# show result\n",
    "print(yhat)"
   ]
  },
  {
   "cell_type": "code",
   "execution_count": null,
   "metadata": {},
   "outputs": [],
   "source": []
  }
 ],
 "metadata": {
  "kernelspec": {
   "display_name": "Python 3",
   "language": "python",
   "name": "python3"
  },
  "language_info": {
   "codemirror_mode": {
    "name": "ipython",
    "version": 3
   },
   "file_extension": ".py",
   "mimetype": "text/x-python",
   "name": "python",
   "nbconvert_exporter": "python",
   "pygments_lexer": "ipython3",
   "version": "3.8.5"
  }
 },
 "nbformat": 4,
 "nbformat_minor": 4
}
